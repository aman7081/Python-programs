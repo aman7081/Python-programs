{
  "nbformat": 4,
  "nbformat_minor": 0,
  "metadata": {
    "colab": {
      "provenance": [],
      "authorship_tag": "ABX9TyNdWDHOLMeu38+Xmijn3242",
      "include_colab_link": true
    },
    "kernelspec": {
      "name": "python3",
      "display_name": "Python 3"
    },
    "language_info": {
      "name": "python"
    }
  },
  "cells": [
    {
      "cell_type": "markdown",
      "metadata": {
        "id": "view-in-github",
        "colab_type": "text"
      },
      "source": [
        "<a href=\"https://colab.research.google.com/github/aman7081/Python-programs/blob/main/Copy_of_Experiment_6.ipynb\" target=\"_parent\"><img src=\"https://colab.research.google.com/assets/colab-badge.svg\" alt=\"Open In Colab\"/></a>"
      ]
    },
    {
      "cell_type": "code",
      "execution_count": null,
      "metadata": {
        "id": "ceTC_EQ8EOKq"
      },
      "outputs": [],
      "source": [
        "import numpy as np\n",
        "import matplotlib.pyplot as plt"
      ]
    },
    {
      "cell_type": "code",
      "source": [
        "bits=np.array([1,0,1,0,1,])\n",
        "print(bits)"
      ],
      "metadata": {
        "colab": {
          "base_uri": "https://localhost:8080/"
        },
        "id": "iLlYPCsQEVww",
        "outputId": "102f421a-bc1b-4298-da75-ebc86d4162ae"
      },
      "execution_count": null,
      "outputs": [
        {
          "output_type": "stream",
          "name": "stdout",
          "text": [
            "[1 0 1 0 1]\n"
          ]
        }
      ]
    },
    {
      "cell_type": "code",
      "source": [
        "l=len(bits)\n",
        "print(l)"
      ],
      "metadata": {
        "colab": {
          "base_uri": "https://localhost:8080/"
        },
        "id": "YgnJe9yEEmeT",
        "outputId": "a6f4d329-3c0d-47e7-e2f7-ca73a390c1d6"
      },
      "execution_count": null,
      "outputs": [
        {
          "output_type": "stream",
          "name": "stdout",
          "text": [
            "5\n"
          ]
        }
      ]
    },
    {
      "cell_type": "code",
      "source": [
        "bitrate=1\n",
        "n=500"
      ],
      "metadata": {
        "id": "fbHAshJiE_us"
      },
      "execution_count": null,
      "outputs": []
    },
    {
      "cell_type": "code",
      "source": [
        "T=l*bitrate\n",
        "print(T)"
      ],
      "metadata": {
        "colab": {
          "base_uri": "https://localhost:8080/"
        },
        "id": "fwv-hVOiFVMF",
        "outputId": "b96cc73c-7496-4558-98a1-e72255a87888"
      },
      "execution_count": null,
      "outputs": [
        {
          "output_type": "stream",
          "name": "stdout",
          "text": [
            "5\n"
          ]
        }
      ]
    },
    {
      "cell_type": "code",
      "source": [
        "N=T*n\n",
        "print(N)"
      ],
      "metadata": {
        "colab": {
          "base_uri": "https://localhost:8080/"
        },
        "id": "B6vLb7C8Fbd1",
        "outputId": "37688ca3-08f3-4d7b-8c2b-8fe15a96f84b"
      },
      "execution_count": null,
      "outputs": [
        {
          "output_type": "stream",
          "name": "stdout",
          "text": [
            "2500\n"
          ]
        }
      ]
    },
    {
      "cell_type": "code",
      "source": [
        "dt=T/N\n",
        "print(dt)"
      ],
      "metadata": {
        "colab": {
          "base_uri": "https://localhost:8080/"
        },
        "id": "Nu4TdiTiF1us",
        "outputId": "47d65b6e-b220-40ec-da75-de6d2193840f"
      },
      "execution_count": null,
      "outputs": [
        {
          "output_type": "stream",
          "name": "stdout",
          "text": [
            "0.002\n"
          ]
        }
      ]
    },
    {
      "cell_type": "code",
      "source": [
        "t=np.arange(0,T,dt)\n",
        "print(t)"
      ],
      "metadata": {
        "colab": {
          "base_uri": "https://localhost:8080/"
        },
        "id": "4w0qAWw-F-Ty",
        "outputId": "41d65955-7aca-4f4f-9bb2-21d0d747084a"
      },
      "execution_count": null,
      "outputs": [
        {
          "output_type": "stream",
          "name": "stdout",
          "text": [
            "[0.000e+00 2.000e-03 4.000e-03 ... 4.994e+00 4.996e+00 4.998e+00]\n"
          ]
        }
      ]
    },
    {
      "cell_type": "code",
      "source": [
        "U_NRZ=np.zeros((N,1))\n",
        "U_RZ=np.zeros((N,1))\n",
        "P_NRZ=np.zeros((N,1))\n",
        "P_RZ=np.zeros((N,1))"
      ],
      "metadata": {
        "id": "yEkOyilDG73E"
      },
      "execution_count": null,
      "outputs": []
    },
    {
      "cell_type": "code",
      "source": [
        "for i in range(l):\n",
        "  if bits[i]==1:\n",
        "    U_NRZ[i*n:(i+1)*n]=1\n",
        "  else:\n",
        "    U_NRZ[i*n:(i+1)*n]=0\n",
        "plt.plot(t,U_NRZ)\n",
        "plt.show()"
      ],
      "metadata": {
        "colab": {
          "base_uri": "https://localhost:8080/",
          "height": 430
        },
        "id": "7qNIqS3NJCrc",
        "outputId": "eac5c88b-1a06-413f-f397-0affcef05867"
      },
      "execution_count": null,
      "outputs": [
        {
          "output_type": "display_data",
          "data": {
            "text/plain": [
              "<Figure size 640x480 with 1 Axes>"
            ],
            "image/png": "[encoded data removed]"
          },
          "metadata": {}
        }
      ]
    },
    {
      "cell_type": "code",
      "source": [
        "for i in range(l):\n",
        "  if bits[i]==1:\n",
        "    P_NRZ[i*n:(i+1)*n]=1\n",
        "  else:\n",
        "    P_NRZ[i*n:(i+1)*n]=-1\n",
        "plt.plot(t,P_NRZ)\n",
        "plt.show()"
      ],
      "metadata": {
        "colab": {
          "base_uri": "https://localhost:8080/",
          "height": 430
        },
        "id": "CP_dcXprKCkD",
        "outputId": "d6ec991f-d23b-4c49-f7d9-3e314b9231c4"
      },
      "execution_count": null,
      "outputs": [
        {
          "output_type": "display_data",
          "data": {
            "text/plain": [
              "<Figure size 640x480 with 1 Axes>"
            ],
            "image/png": "[encoded data removed]"
          },
          "metadata": {}
        }
      ]
    },
    {
      "cell_type": "code",
      "source": [
        "for i in range(l):\n",
        "  if bits[i]==1:\n",
        "    P_RZ[i*n:int((i+0.5)*n)]=1\n",
        "    P_RZ[int((i+0.5)*n):(i+1)*n]=0\n",
        "  else:\n",
        "    P_RZ[i*n:int((i+0.5)*n)]=-1\n",
        "    P_RZ[int((i+0.5)*n):(i+1)*n]=0\n",
        "plt.plot(t,P_RZ)\n",
        "plt.show()"
      ],
      "metadata": {
        "colab": {
          "base_uri": "https://localhost:8080/",
          "height": 430
        },
        "id": "4YEtiulIL_9z",
        "outputId": "9e69ed8f-c1f4-42ed-d239-be7897d0405d"
      },
      "execution_count": null,
      "outputs": [
        {
          "output_type": "display_data",
          "data": {
            "text/plain": [
              "<Figure size 640x480 with 1 Axes>"
            ],
            "image/png": "[encoded data removed]"
          },
          "metadata": {}
        }
      ]
    },
    {
      "cell_type": "code",
      "source": [
        "for i in range(l):\n",
        "  if bits[i]==1:\n",
        "    U_RZ[i*n:int((i+0.5)*n)]=1\n",
        "    U_RZ[int((i+0.5)*n):(i+1)*n]=0\n",
        "  else:\n",
        "    U_RZ[i*n:(i+1)*n]=0\n",
        "plt.plot(t,U_RZ)\n",
        "plt.show()"
      ],
      "metadata": {
        "colab": {
          "base_uri": "https://localhost:8080/",
          "height": 430
        },
        "id": "5jaWd7IxKsTr",
        "outputId": "9ea34783-f85d-4c47-ea91-4221ae8a2a43"
      },
      "execution_count": null,
      "outputs": [
        {
          "output_type": "display_data",
          "data": {
            "text/plain": [
              "<Figure size 640x480 with 1 Axes>"
            ],
            "image/png": "[encoded data removed]"
          },
          "metadata": {}
        }
      ]
    }
  ]
}